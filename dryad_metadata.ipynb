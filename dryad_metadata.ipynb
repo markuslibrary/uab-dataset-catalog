{
 "cells": [
  {
   "cell_type": "markdown",
   "metadata": {},
   "source": [
    "# Dryad Metadata Extraction"
   ]
  },
  {
   "cell_type": "code",
   "execution_count": 1,
   "metadata": {},
   "outputs": [],
   "source": [
    "import urllib.request\n",
    "import json\n",
    "\n",
    "# Search Dryad using the Dryad API\n",
    "ENDPOINT = 'https://datadryad.org/api/v2'\n",
    "\n",
    "# Search for datasets which have authors affiliated with UAB\n",
    "params = {\n",
    "    \"affiliation\": \"https://ror.org/008s83205\",\n",
    "    \"per_page\": 100,\n",
    "}\n",
    "\n",
    "search_url = ENDPOINT + '/search?' + urllib.parse.urlencode(params)\n",
    "request = urllib.request.urlopen(search_url)\n",
    "response = json.loads(request.read())\n",
    "\n",
    "# # Get search results as parsed JSON\n",
    "# with urllib.request.urlopen(search_url) as request:\n",
    "#     response = json.loads(request.read())\n",
    "#     print(response['_embedded']['stash:datasets'][0].keys())\n",
    "    # Iterate over the returned items\n",
    "    # for item in response['_embedded']['stash:datasets']:\n",
    "    #     link = item['identifier'].replace('doi:', 'https://doi.org/')\n",
    "    #     title = item['title']\n",
    "    #     count += 1\n",
    "    #     print('----')\n",
    "    #     print(f'Title: {title}')\n",
    "    #     print(f'Link:  {link}')"
   ]
  },
  {
   "cell_type": "code",
   "execution_count": 16,
   "metadata": {},
   "outputs": [
    {
     "name": "stdout",
     "output_type": "stream",
     "text": [
      "[{'organization': 'National Heart Lung and Blood Institute', 'identifierType': 'ror', 'identifier': 'https://ror.org/012pb6c26', 'awardNumber': 'R01HL136707', 'awardDescription': '', 'order': 0}, {'organization': 'National Institute of Allergy and Infectious Diseases', 'identifierType': 'ror', 'identifier': 'https://ror.org/043z4tv69', 'awardNumber': 'R21AI154343', 'awardDescription': '', 'order': 1}, {'organization': 'National Institute of Allergy and Infectious Diseases', 'identifierType': 'ror', 'identifier': 'https://ror.org/043z4tv69', 'awardNumber': 'R21AI130504', 'awardDescription': '', 'order': 2}, {'organization': 'Cystic Fibrosis Foundation', 'identifierType': 'ror', 'identifier': 'https://ror.org/00ax59295', 'awardNumber': '701952', 'awardDescription': '', 'order': 3}, {'organization': 'Cystic Fibrosis Foundation', 'identifierType': 'ror', 'identifier': 'https://ror.org/00ax59295', 'awardNumber': '438903', 'awardDescription': '', 'order': 4}]\n"
     ]
    }
   ],
   "source": [
    "# for i in range(len(response['_embedded']['stash:datasets'])):\n",
    "#     print(response['_embedded']['stash:datasets'][i].keys())\n",
    "print(response['_embedded']['stash:datasets'][3]['funders'])\n",
    "# print(response['_embedded']['stash:datasets'][3]['license'])"
   ]
  },
  {
   "cell_type": "markdown",
   "metadata": {},
   "source": []
  }
 ],
 "metadata": {
  "kernelspec": {
   "display_name": "zenodo-api",
   "language": "python",
   "name": "python3"
  },
  "language_info": {
   "codemirror_mode": {
    "name": "ipython",
    "version": 3
   },
   "file_extension": ".py",
   "mimetype": "text/x-python",
   "name": "python",
   "nbconvert_exporter": "python",
   "pygments_lexer": "ipython3",
   "version": "3.11.9"
  }
 },
 "nbformat": 4,
 "nbformat_minor": 2
}
