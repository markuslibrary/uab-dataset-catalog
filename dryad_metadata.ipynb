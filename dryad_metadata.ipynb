{
 "cells": [
  {
   "cell_type": "markdown",
   "metadata": {},
   "source": [
    "# Dryad Metadata Extraction"
   ]
  },
  {
   "cell_type": "code",
   "execution_count": 1,
   "metadata": {},
   "outputs": [],
   "source": [
    "import urllib.request\n",
    "import json\n",
    "\n",
    "# Search Dryad using the Dryad API\n",
    "ENDPOINT = 'https://datadryad.org/api/v2'\n",
    "\n",
    "# Search for datasets which have authors affiliated with UAB\n",
    "params = {\n",
    "    \"affiliation\": \"https://ror.org/008s83205\",\n",
    "    \"per_page\": 100,\n",
    "}\n",
    "\n",
    "search_url = ENDPOINT + '/search?' + urllib.parse.urlencode(params)\n",
    "request = urllib.request.urlopen(search_url)\n",
    "response = json.loads(request.read())\n",
    "\n",
    "# # Get search results as parsed JSON\n",
    "# with urllib.request.urlopen(search_url) as request:\n",
    "#     response = json.loads(request.read())\n",
    "#     print(response['_embedded']['stash:datasets'][0].keys())\n",
    "    # Iterate over the returned items\n",
    "    # for item in response['_embedded']['stash:datasets']:\n",
    "    #     link = item['identifier'].replace('doi:', 'https://doi.org/')\n",
    "    #     title = item['title']\n",
    "    #     count += 1\n",
    "    #     print('----')\n",
    "    #     print(f'Title: {title}')\n",
    "    #     print(f'Link:  {link}')"
   ]
  },
  {
   "cell_type": "code",
   "execution_count": 12,
   "metadata": {},
   "outputs": [
    {
     "name": "stdout",
     "output_type": "stream",
     "text": [
      "https://doi.org/10.5061/dryad.rn8pk0ph3\n",
      "https://doi.org/10.5061/dryad.rbnzs7h8z\n",
      "https://doi.org/10.5061/dryad.nzs7h44xb\n",
      "https://doi.org/10.5061/dryad.3bk3j9kr1\n",
      "https://doi.org/10.5061/dryad.kkwh70s86\n",
      "https://doi.org/10.5061/dryad.t1k42p8\n",
      "https://doi.org/10.5061/dryad.tg142pt\n",
      "https://doi.org/10.5061/dryad.4f4qrfj8s\n",
      "https://doi.org/10.5061/dryad.d04s0\n",
      "https://doi.org/10.5061/dryad.f8c4f\n",
      "https://doi.org/10.5061/dryad.bk3j9kdkr\n",
      "https://doi.org/10.5061/dryad.q8b18\n",
      "https://doi.org/10.5061/dryad.443gv60\n",
      "https://doi.org/10.5061/dryad.1862\n",
      "https://doi.org/10.5061/dryad.14v3m13\n",
      "https://doi.org/10.5061/dryad.fn53k\n",
      "https://doi.org/10.5061/dryad.n774460\n",
      "https://doi.org/10.5061/dryad.zw3r2285c\n",
      "https://doi.org/10.5061/dryad.754c6\n",
      "https://doi.org/10.5061/dryad.9f646f2\n",
      "https://doi.org/10.5061/dryad.mr2687q\n",
      "https://doi.org/10.5061/dryad.g1nq02r\n",
      "https://doi.org/10.5061/dryad.9hr7t\n",
      "https://doi.org/10.5061/dryad.s5h20\n",
      "https://doi.org/10.5061/dryad.k648s\n",
      "https://doi.org/10.5061/dryad.gd3dq\n",
      "https://doi.org/10.5061/dryad.64380\n",
      "https://doi.org/10.5061/dryad.4fn70\n",
      "https://doi.org/10.5061/dryad.pm793v8\n",
      "https://doi.org/10.5061/dryad.x0k6djhj1\n",
      "https://doi.org/10.7272/Q6SJ1HVH\n",
      "https://doi.org/10.5061/dryad.djh9w0vzh\n",
      "https://doi.org/10.5061/dryad.dv41ns1xc\n",
      "https://doi.org/10.5061/dryad.44j0zpc9g\n",
      "https://doi.org/10.5061/dryad.000000036\n",
      "https://doi.org/10.5061/dryad.kprr4xh3h\n",
      "https://doi.org/10.5061/dryad.kkwh70s8q\n",
      "https://doi.org/10.5061/dryad.cjsxksnfh\n",
      "https://doi.org/10.5061/dryad.9s4mw6mkf\n",
      "https://doi.org/10.5061/dryad.rjdfn2zbb\n",
      "https://doi.org/10.5061/dryad.41ns1rnbp\n"
     ]
    }
   ],
   "source": [
    "count =0\n",
    "for i in range(len(response['_embedded']['stash:datasets'])):\n",
    "    doi = response['_embedded']['stash:datasets'][i]['identifier']\n",
    "    # print(\"https://doi.org/\" + doi[4:])\n",
    "    date = response['_embedded']['stash:datasets'][i]['identifier']\n",
    "# print(response['_embedded']['stash:datasets'][3]['funders'])\n",
    "# print(response['_embedded']['stash:datasets'][3]['license'])"
   ]
  },
  {
   "cell_type": "markdown",
   "metadata": {},
   "source": []
  }
 ],
 "metadata": {
  "kernelspec": {
   "display_name": "zenodo-api",
   "language": "python",
   "name": "python3"
  },
  "language_info": {
   "codemirror_mode": {
    "name": "ipython",
    "version": 3
   },
   "file_extension": ".py",
   "mimetype": "text/x-python",
   "name": "python",
   "nbconvert_exporter": "python",
   "pygments_lexer": "ipython3",
   "version": "3.11.9"
  }
 },
 "nbformat": 4,
 "nbformat_minor": 2
}
