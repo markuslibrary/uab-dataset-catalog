{
 "cells": [
  {
   "cell_type": "markdown",
   "metadata": {},
   "source": [
    "Takes in the current batch revise spreadsheet, removes any from the new batch upload sheet for which there is already a catalog entry."
   ]
  },
  {
   "cell_type": "code",
   "execution_count": null,
   "metadata": {},
   "outputs": [
    {
     "name": "stdout",
     "output_type": "stream",
     "text": [
      "New entries before reduction:\n",
      "178\n",
      "New entries before reduction:\n",
      "125\n"
     ]
    }
   ],
   "source": [
    "import pandas as pd\n",
    "\n",
    "current_catalog = pd.read_excel('datasets_1.xls_Wed_Mar_19_10_29_13_2025part_1.xls') # Use the current batch revise spreadsheet\n",
    "\n",
    "new_entries = pd.read_excel('datacite/batch-upload/datacite_batch_upload.xlsx') # Input the spreadsheet you plan to upload\n",
    "\n",
    "output_path = 'datacite/batch-upload/datacite_batch_upload_reduced.xlsx' # Change this to wherever you want the output saved\n",
    "\n",
    "print('New entries before reduction:')\n",
    "print(len(new_entries))\n",
    "\n",
    "df_output = new_entries[~new_entries['source_fulltext_url'].isin(current_catalog['source_fulltext_url'])]\n",
    "df_output = new_entries[~new_entries['title'].isin(current_catalog['title'])]\n",
    "\n",
    "\n",
    "print('New entries before reduction:')\n",
    "print(len(df_output))\n",
    "\n",
    "\n",
    "df_output.to_excel(output_path, index=False)\n",
    "\n"
   ]
  }
 ],
 "metadata": {
  "kernelspec": {
   "display_name": "zenodo-api",
   "language": "python",
   "name": "python3"
  },
  "language_info": {
   "codemirror_mode": {
    "name": "ipython",
    "version": 3
   },
   "file_extension": ".py",
   "mimetype": "text/x-python",
   "name": "python",
   "nbconvert_exporter": "python",
   "pygments_lexer": "ipython3",
   "version": "3.11.9"
  }
 },
 "nbformat": 4,
 "nbformat_minor": 2
}
